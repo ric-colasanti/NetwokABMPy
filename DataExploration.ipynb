{
 "cells": [
  {
   "cell_type": "code",
   "execution_count": 31,
   "id": "bb0308b4-7b9d-486f-9dca-1623057302b1",
   "metadata": {},
   "outputs": [],
   "source": [
    "import numpy as np\n",
    "import pandas as pd\n",
    "import geopandas as gp\n",
    "import matplotlib.pyplot as plt"
   ]
  },
  {
   "cell_type": "code",
   "execution_count": 32,
   "id": "a254db59-8d2d-4c37-90a6-bd81614abdd0",
   "metadata": {},
   "outputs": [],
   "source": [
    "synth_pop_df = pd.read_csv('Data/Aberdeen_SP_Sample.csv')"
   ]
  },
  {
   "cell_type": "code",
   "execution_count": 33,
   "id": "169dd50f-6e26-41af-b313-e7f258d47199",
   "metadata": {},
   "outputs": [
    {
     "data": {
      "text/plain": [
       "(193271, 15)"
      ]
     },
     "execution_count": 33,
     "metadata": {},
     "output_type": "execute_result"
    }
   ],
   "source": [
    "synth_pop_df.shape"
   ]
  },
  {
   "cell_type": "code",
   "execution_count": 34,
   "id": "1dc45da8-64e5-489e-94ea-60bc06f1b8f8",
   "metadata": {},
   "outputs": [],
   "source": [
    "bounds_df = gp.read_file('Data/AberdeenBounds.geojson')"
   ]
  },
  {
   "cell_type": "code",
   "execution_count": 35,
   "id": "f55d4962-671f-41f4-98b3-99a4647ad480",
   "metadata": {},
   "outputs": [
    {
     "data": {
      "text/plain": [
       "(111, 10)"
      ]
     },
     "execution_count": 35,
     "metadata": {},
     "output_type": "execute_result"
    }
   ],
   "source": [
    "bounds_df.shape"
   ]
  },
  {
   "cell_type": "markdown",
   "id": "100ef1f5-a2fd-493a-b33e-bdb6823e8b08",
   "metadata": {},
   "source": [
    "## Load from csv"
   ]
  },
  {
   "cell_type": "code",
   "execution_count": 36,
   "id": "18a0c869-ecbb-45a0-8c72-1fe432723a70",
   "metadata": {},
   "outputs": [
    {
     "data": {
      "text/html": [
       "<div>\n",
       "<style scoped>\n",
       "    .dataframe tbody tr th:only-of-type {\n",
       "        vertical-align: middle;\n",
       "    }\n",
       "\n",
       "    .dataframe tbody tr th {\n",
       "        vertical-align: top;\n",
       "    }\n",
       "\n",
       "    .dataframe thead th {\n",
       "        text-align: right;\n",
       "    }\n",
       "</style>\n",
       "<table border=\"1\" class=\"dataframe\">\n",
       "  <thead>\n",
       "    <tr style=\"text-align: right;\">\n",
       "      <th></th>\n",
       "      <th>ZoneID</th>\n",
       "      <th>hidp</th>\n",
       "      <th>pidp</th>\n",
       "      <th>ctr_code</th>\n",
       "      <th>sex</th>\n",
       "      <th>age_dv</th>\n",
       "      <th>sf12mcs_dv</th>\n",
       "      <th>sf12pcs_dv</th>\n",
       "      <th>smoker</th>\n",
       "      <th>ncigs</th>\n",
       "      <th>xphsdct</th>\n",
       "      <th>fihhmngrs_dv</th>\n",
       "      <th>msoa11cd</th>\n",
       "      <th>ladcd</th>\n",
       "      <th>ladnm</th>\n",
       "    </tr>\n",
       "  </thead>\n",
       "  <tbody>\n",
       "    <tr>\n",
       "      <th>0</th>\n",
       "      <td>S01006506</td>\n",
       "      <td>68129220</td>\n",
       "      <td>68037407</td>\n",
       "      <td>S</td>\n",
       "      <td>2</td>\n",
       "      <td>50</td>\n",
       "      <td>57.33</td>\n",
       "      <td>53.46</td>\n",
       "      <td>1</td>\n",
       "      <td>10</td>\n",
       "      <td>2</td>\n",
       "      <td>1909.369995</td>\n",
       "      <td>S02001236</td>\n",
       "      <td>S12000033</td>\n",
       "      <td>Aberdeen City</td>\n",
       "    </tr>\n",
       "    <tr>\n",
       "      <th>1</th>\n",
       "      <td>S01006506</td>\n",
       "      <td>68455620</td>\n",
       "      <td>68538656</td>\n",
       "      <td>S</td>\n",
       "      <td>1</td>\n",
       "      <td>32</td>\n",
       "      <td>52.08</td>\n",
       "      <td>55.93</td>\n",
       "      <td>1</td>\n",
       "      <td>0</td>\n",
       "      <td>2</td>\n",
       "      <td>4083.929932</td>\n",
       "      <td>S02001236</td>\n",
       "      <td>S12000033</td>\n",
       "      <td>Aberdeen City</td>\n",
       "    </tr>\n",
       "    <tr>\n",
       "      <th>2</th>\n",
       "      <td>S01006506</td>\n",
       "      <td>68537220</td>\n",
       "      <td>68155063</td>\n",
       "      <td>S</td>\n",
       "      <td>1</td>\n",
       "      <td>26</td>\n",
       "      <td>54.10</td>\n",
       "      <td>59.11</td>\n",
       "      <td>2</td>\n",
       "      <td>-8</td>\n",
       "      <td>2</td>\n",
       "      <td>6895.799805</td>\n",
       "      <td>S02001236</td>\n",
       "      <td>S12000033</td>\n",
       "      <td>Aberdeen City</td>\n",
       "    </tr>\n",
       "    <tr>\n",
       "      <th>3</th>\n",
       "      <td>S01006506</td>\n",
       "      <td>68707220</td>\n",
       "      <td>68193131</td>\n",
       "      <td>S</td>\n",
       "      <td>1</td>\n",
       "      <td>31</td>\n",
       "      <td>38.98</td>\n",
       "      <td>54.79</td>\n",
       "      <td>2</td>\n",
       "      <td>-8</td>\n",
       "      <td>2</td>\n",
       "      <td>807.159973</td>\n",
       "      <td>S02001236</td>\n",
       "      <td>S12000033</td>\n",
       "      <td>Aberdeen City</td>\n",
       "    </tr>\n",
       "    <tr>\n",
       "      <th>4</th>\n",
       "      <td>S01006506</td>\n",
       "      <td>68802420</td>\n",
       "      <td>68214207</td>\n",
       "      <td>S</td>\n",
       "      <td>1</td>\n",
       "      <td>60</td>\n",
       "      <td>52.65</td>\n",
       "      <td>51.64</td>\n",
       "      <td>1</td>\n",
       "      <td>10</td>\n",
       "      <td>2</td>\n",
       "      <td>2645.000000</td>\n",
       "      <td>S02001236</td>\n",
       "      <td>S12000033</td>\n",
       "      <td>Aberdeen City</td>\n",
       "    </tr>\n",
       "  </tbody>\n",
       "</table>\n",
       "</div>"
      ],
      "text/plain": [
       "      ZoneID      hidp      pidp ctr_code  sex  age_dv  sf12mcs_dv  \\\n",
       "0  S01006506  68129220  68037407        S    2      50       57.33   \n",
       "1  S01006506  68455620  68538656        S    1      32       52.08   \n",
       "2  S01006506  68537220  68155063        S    1      26       54.10   \n",
       "3  S01006506  68707220  68193131        S    1      31       38.98   \n",
       "4  S01006506  68802420  68214207        S    1      60       52.65   \n",
       "\n",
       "   sf12pcs_dv  smoker  ncigs  xphsdct  fihhmngrs_dv   msoa11cd      ladcd  \\\n",
       "0       53.46       1     10        2   1909.369995  S02001236  S12000033   \n",
       "1       55.93       1      0        2   4083.929932  S02001236  S12000033   \n",
       "2       59.11       2     -8        2   6895.799805  S02001236  S12000033   \n",
       "3       54.79       2     -8        2    807.159973  S02001236  S12000033   \n",
       "4       51.64       1     10        2   2645.000000  S02001236  S12000033   \n",
       "\n",
       "           ladnm  \n",
       "0  Aberdeen City  \n",
       "1  Aberdeen City  \n",
       "2  Aberdeen City  \n",
       "3  Aberdeen City  \n",
       "4  Aberdeen City  "
      ]
     },
     "execution_count": 36,
     "metadata": {},
     "output_type": "execute_result"
    }
   ],
   "source": [
    "synth_pop_df.head()"
   ]
  },
  {
   "cell_type": "markdown",
   "id": "1ff16bbe-c870-4580-abfa-885c5b034ba0",
   "metadata": {},
   "source": [
    "## Get list of unique values ie all the ZoneIDs"
   ]
  },
  {
   "cell_type": "code",
   "execution_count": 37,
   "id": "34d33b96-de09-46ee-82df-2b044c024b2b",
   "metadata": {},
   "outputs": [],
   "source": [
    "all_zones = list(synth_pop_df.ZoneID.unique())\n",
    "zones = list(bounds_df.DataZone.unique())"
   ]
  },
  {
   "cell_type": "markdown",
   "id": "609939c4-1560-4b5e-a2e3-671e4dd3823f",
   "metadata": {},
   "source": [
    "## Intersection beween the two data sets"
   ]
  },
  {
   "cell_type": "code",
   "execution_count": 38,
   "id": "560e34b0-f2d0-455e-8112-1e9ddbaf2f41",
   "metadata": {},
   "outputs": [],
   "source": [
    "union_list = list(set(all_zones).intersection(set(zones)))"
   ]
  },
  {
   "cell_type": "markdown",
   "id": "76b2f562-1f17-4ac1-86fc-9a0addceef86",
   "metadata": {},
   "source": [
    "## Get a sub set of the full data set"
   ]
  },
  {
   "cell_type": "code",
   "execution_count": 39,
   "id": "d60c277d-df75-4c61-bf6f-e3cf2a6aefc9",
   "metadata": {},
   "outputs": [],
   "source": [
    "aberdeen_synth_pop_df = synth_pop_df[synth_pop_df.ZoneID.isin(union_list)]"
   ]
  },
  {
   "cell_type": "code",
   "execution_count": 40,
   "id": "b7a6fa25-f5f8-43aa-9812-e186251bc9dd",
   "metadata": {},
   "outputs": [
    {
     "data": {
      "text/plain": [
       "(80078, 15)"
      ]
     },
     "execution_count": 40,
     "metadata": {},
     "output_type": "execute_result"
    }
   ],
   "source": [
    "aberdeen_synth_pop_df.shape"
   ]
  },
  {
   "cell_type": "markdown",
   "id": "79bde53b-39d3-44fc-aea5-8182054df5dd",
   "metadata": {},
   "source": [
    "## Min value of column"
   ]
  },
  {
   "cell_type": "code",
   "execution_count": 41,
   "id": "d74b287c-a484-4e18-9363-339d251f5b53",
   "metadata": {},
   "outputs": [
    {
     "data": {
      "text/plain": [
       "16"
      ]
     },
     "execution_count": 41,
     "metadata": {},
     "output_type": "execute_result"
    }
   ],
   "source": [
    "aberdeen_synth_pop_df.loc[aberdeen_synth_pop_df.age_dv.idxmin()].age_dv"
   ]
  },
  {
   "cell_type": "markdown",
   "id": "74f4976c-feb8-446f-8827-47c2775cc58b",
   "metadata": {},
   "source": [
    "## Select sub data on col value and selection of fields"
   ]
  },
  {
   "cell_type": "code",
   "execution_count": 42,
   "id": "838b480b-0db2-42af-a848-ef40a393abed",
   "metadata": {},
   "outputs": [],
   "source": [
    "admin_dist_df = aberdeen_synth_pop_df.loc[aberdeen_synth_pop_df.ZoneID == zones[4],[\"sex\",\"age_dv\",\"fihhmngrs_dv\"]]"
   ]
  },
  {
   "cell_type": "markdown",
   "id": "72148d35-4f3e-4658-9a2a-654d5cb27537",
   "metadata": {},
   "source": [
    "## Count rows"
   ]
  },
  {
   "cell_type": "code",
   "execution_count": 43,
   "id": "cce64362-7d22-42a0-b5cf-ed4acdd1ad9a",
   "metadata": {},
   "outputs": [
    {
     "data": {
      "text/plain": [
       "574"
      ]
     },
     "execution_count": 43,
     "metadata": {},
     "output_type": "execute_result"
    }
   ],
   "source": [
    "admin_dist_df.shape[0]"
   ]
  },
  {
   "cell_type": "markdown",
   "id": "17a19c8b-ea45-460b-b3a3-8ad82bb5af06",
   "metadata": {},
   "source": [
    "## Discriptive stats"
   ]
  },
  {
   "cell_type": "code",
   "execution_count": 44,
   "id": "b9acd91d-adda-4185-bf29-19acd797616e",
   "metadata": {},
   "outputs": [
    {
     "data": {
      "text/plain": [
       "<bound method DataFrame.to_dict of            age_dv  fihhmngrs_dv\n",
       "count  574.000000    574.000000\n",
       "mean    49.928571   4926.943147\n",
       "std     17.896740   3337.842760\n",
       "min     16.000000      0.000000\n",
       "25%     37.000000   2461.785095\n",
       "50%     50.000000   4410.004883\n",
       "75%     61.000000   6554.147583\n",
       "max     93.000000  27975.269531>"
      ]
     },
     "execution_count": 44,
     "metadata": {},
     "output_type": "execute_result"
    }
   ],
   "source": [
    "admin_dist_df[[\"age_dv\",\"fihhmngrs_dv\"]].describe().to_dict"
   ]
  },
  {
   "cell_type": "markdown",
   "id": "7481411a-79d9-40a8-9b10-7a65d819a7f5",
   "metadata": {},
   "source": [
    "## Get list of counts of values"
   ]
  },
  {
   "cell_type": "code",
   "execution_count": 45,
   "id": "64d37a5d-aecd-410d-b6e5-c6e0e7afd4e0",
   "metadata": {},
   "outputs": [
    {
     "data": {
      "text/plain": [
       "[275, 299]"
      ]
     },
     "execution_count": 45,
     "metadata": {},
     "output_type": "execute_result"
    }
   ],
   "source": [
    "list(admin_dist_df.groupby(\"sex\").sex.count())"
   ]
  },
  {
   "cell_type": "markdown",
   "id": "e636f57e-c9c9-463b-95fb-c3df9c361220",
   "metadata": {},
   "source": [
    "## Plot hist of a column"
   ]
  },
  {
   "cell_type": "code",
   "execution_count": 46,
   "id": "bb02fdd1-0d32-4e87-b54d-60b79066caea",
   "metadata": {},
   "outputs": [
    {
     "data": {
      "image/png": "[encoded data removed]",
      "text/plain": [
       "<Figure size 640x480 with 1 Axes>"
      ]
     },
     "metadata": {},
     "output_type": "display_data"
    }
   ],
   "source": [
    "ax = aberdeen_synth_pop_df.fihhmngrs_dv.plot.hist(bins=10,rwidth=0.9  )\n",
    "ax.set_title(\"Income distribution\")\n",
    "ax.set_xlabel(\"Monthy income\")\n",
    "ax.set_ylabel(\"Number of individuals\")\n",
    "ax.spines[['right', 'top']].set_visible(False)"
   ]
  },
  {
   "cell_type": "code",
   "execution_count": 49,
   "id": "f464b370-1af2-4a70-99ad-518be3eee167",
   "metadata": {},
   "outputs": [
    {
     "data": {
      "text/plain": [
       "Text(0, 0.5, 'Number of individuals')"
      ]
     },
     "execution_count": 49,
     "metadata": {},
     "output_type": "execute_result"
    },
    {
     "data": {
      "image/png": "[encoded data removed]",
      "text/plain": [
       "<Figure size 640x480 with 1 Axes>"
      ]
     },
     "metadata": {},
     "output_type": "display_data"
    }
   ],
   "source": [
    "fig, axs = plt.subplots(1,1)\n",
    "ax = admin_dist_df.groupby('sex').fihhmngrs_dv.plot.hist(ax=axs,bins=10,rwidth=0.9, alpha=0.2, \n",
    "                                                          title=\"Income distribution by sex\",\n",
    "                                                          xlabel=\" £ Monthy income\"\n",
    "                                                         ,ylabel=\"Number of individuals\"\n",
    "                                                         ,legend=[\"M\",\"F\"])\n",
    "\n",
    "plt.title(\"Income distribution\")\n",
    "plt.xlabel(\"Monthy income\")\n",
    "plt.ylabel(\"Number of individuals\")\n"
   ]
  },
  {
   "cell_type": "code",
   "execution_count": 77,
   "id": "efc4d892-f985-4ed9-97bc-668a4a2b4146",
   "metadata": {},
   "outputs": [],
   "source": [
    "grouped_data =list(admin_dist_df.groupby('sex').fihhmngrs_dv)"
   ]
  },
  {
   "cell_type": "code",
   "execution_count": 86,
   "id": "829db78c-27a4-4bc6-961b-6a242bbd19b5",
   "metadata": {},
   "outputs": [
    {
     "data": {
      "text/plain": [
       "3857.3108407910277"
      ]
     },
     "execution_count": 86,
     "metadata": {},
     "output_type": "execute_result"
    }
   ],
   "source": [
    "grouped_data[0][1].mean()"
   ]
  },
  {
   "cell_type": "code",
   "execution_count": 88,
   "id": "f0f939ce-a46f-4a81-941d-67318ba89ca6",
   "metadata": {},
   "outputs": [
    {
     "data": {
      "text/plain": [
       "3524.690600681973"
      ]
     },
     "execution_count": 88,
     "metadata": {},
     "output_type": "execute_result"
    }
   ],
   "source": [
    "grouped_data[1][1].mean()"
   ]
  },
  {
   "cell_type": "code",
   "execution_count": null,
   "id": "be3a703c-2984-4f49-bcac-1d6ef4fbc737",
   "metadata": {},
   "outputs": [],
   "source": []
  }
 ],
 "metadata": {
  "kernelspec": {
   "display_name": "Python 3 (ipykernel)",
   "language": "python",
   "name": "python3"
  },
  "language_info": {
   "codemirror_mode": {
    "name": "ipython",
    "version": 3
   },
   "file_extension": ".py",
   "mimetype": "text/x-python",
   "name": "python",
   "nbconvert_exporter": "python",
   "pygments_lexer": "ipython3",
   "version": "3.12.3"
  }
 },
 "nbformat": 4,
 "nbformat_minor": 5
}
