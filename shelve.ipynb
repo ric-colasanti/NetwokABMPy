{
 "cells": [
  {
   "cell_type": "code",
   "execution_count": 15,
   "id": "b8ae38be-3e95-4e3c-bb02-5ee48e5c6208",
   "metadata": {},
   "outputs": [
    {
     "ename": "TypeError",
     "evalue": "method expected 2 arguments, got 3",
     "output_type": "error",
     "traceback": [
      "\u001b[0;31m---------------------------------------------------------------------------\u001b[0m",
      "\u001b[0;31mTypeError\u001b[0m                                 Traceback (most recent call last)",
      "Cell \u001b[0;32mIn[15], line 10\u001b[0m\n\u001b[1;32m      7\u001b[0m         \u001b[38;5;28mself\u001b[39m\u001b[38;5;241m.\u001b[39mlock \u001b[38;5;241m=\u001b[39m Lock()\n\u001b[1;32m      9\u001b[0m \u001b[38;5;66;03m# Custom manager\u001b[39;00m\n\u001b[0;32m---> 10\u001b[0m \u001b[38;5;28;43;01mclass\u001b[39;49;00m\u001b[43m \u001b[49m\u001b[38;5;21;43;01mCustomManager\u001b[39;49;00m\u001b[43m(\u001b[49m\u001b[43mManager\u001b[49m\u001b[43m)\u001b[49m\u001b[43m:\u001b[49m\n\u001b[1;32m     11\u001b[0m \u001b[43m    \u001b[49m\u001b[38;5;28;43;01mpass\u001b[39;49;00m\n\u001b[1;32m     13\u001b[0m \u001b[38;5;66;03m# Register the custom class with the manager\u001b[39;00m\n",
      "\u001b[0;31mTypeError\u001b[0m: method expected 2 arguments, got 3"
     ]
    }
   ],
   "source": [
    "from multiprocessing import Manager, Lock\n",
    "\n",
    "# Custom data structure (replace with your own)\n",
    "class SharedData:\n",
    "    def __init__(self):\n",
    "        self.data = [i for i in range(10000)]  # Replace with your data structure\n",
    "        self.lock = Lock()\n",
    "\n",
    "# Custom manager\n",
    "class CustomManager(Manager):\n",
    "    pass\n",
    "\n",
    "# Register the custom class with the manager\n",
    "CustomManager.register('SharedData', SharedData)\n",
    "\n",
    "if __name__ == \"__main__\":\n",
    "    # Create the custom manager\n",
    "    manager = CustomManager()\n",
    "\n",
    "    # Create a shared instance of the custom class\n",
    "    shared_data = manager.SharedData()\n",
    "\n",
    "    # Now you can use shared_data in your processes\n",
    "    # For example, modify the data with locking:\n",
    "    with shared_data.lock:\n",
    "        shared_data.data[0] = -1\n",
    "\n",
    "    # Access the modified data\n",
    "    print(shared_data.data)\n"
   ]
  },
  {
   "cell_type": "code",
   "execution_count": null,
   "id": "d08c65c6-3adc-42ff-9f6f-96ebfd984077",
   "metadata": {},
   "outputs": [],
   "source": []
  }
 ],
 "metadata": {
  "kernelspec": {
   "display_name": "Python 3 (ipykernel)",
   "language": "python",
   "name": "python3"
  },
  "language_info": {
   "codemirror_mode": {
    "name": "ipython",
    "version": 3
   },
   "file_extension": ".py",
   "mimetype": "text/x-python",
   "name": "python",
   "nbconvert_exporter": "python",
   "pygments_lexer": "ipython3",
   "version": "3.12.3"
  }
 },
 "nbformat": 4,
 "nbformat_minor": 5
}
